{
 "cells": [
  {
   "cell_type": "code",
   "execution_count": 1,
   "id": "b6d782ce-f00e-4a0e-bc5f-465b7d4071df",
   "metadata": {},
   "outputs": [],
   "source": [
    "import random"
   ]
  },
  {
   "cell_type": "code",
   "execution_count": 2,
   "id": "a643b2af-8c6b-4e97-85ad-ce7288d6074d",
   "metadata": {},
   "outputs": [
    {
     "data": {
      "text/plain": [
       "-45"
      ]
     },
     "execution_count": 2,
     "metadata": {},
     "output_type": "execute_result"
    }
   ],
   "source": [
    "random.randint(-90, 90)"
   ]
  },
  {
   "cell_type": "code",
   "execution_count": 3,
   "id": "7c39f393-edc6-4ba8-bf86-7d225cef1cd1",
   "metadata": {},
   "outputs": [
    {
     "data": {
      "text/plain": [
       "0.3952332583903957"
      ]
     },
     "execution_count": 3,
     "metadata": {},
     "output_type": "execute_result"
    }
   ],
   "source": [
    "random.random()"
   ]
  },
  {
   "cell_type": "code",
   "execution_count": 4,
   "id": "262adda1-bf59-475a-a417-ea0ccc45cd3d",
   "metadata": {},
   "outputs": [],
   "source": [
    "import numpy as np"
   ]
  },
  {
   "cell_type": "code",
   "execution_count": 6,
   "id": "33c09ae1-5abc-4eb4-b754-5e4b53610bb5",
   "metadata": {},
   "outputs": [
    {
     "data": {
      "text/plain": [
       "array([ 54.53191907, -11.71620974,  58.38732514,  16.20627567,\n",
       "        70.58550751, -76.8697702 ,  28.45960379,   1.73807755,\n",
       "        57.04981434, -15.66871897, -45.81046629, -18.27858142,\n",
       "       -83.30223339,  73.40055301,  36.93094297,  14.23132024,\n",
       "        89.37300706, -34.16504815, -30.17095443,   4.42152918,\n",
       "       -16.16163944,  89.62027059,  26.64122273,  13.60393506,\n",
       "       -61.52410109, -63.90347192, -12.32674742,  38.9603006 ,\n",
       "       -75.72435299, -88.92610628,  46.81984726, -51.00638223,\n",
       "        53.25610807, -47.39610473, -32.26352289,  57.74014245,\n",
       "       -20.328481  ,  11.48114683, -33.84110952, -35.20554522,\n",
       "        78.52648387,  40.5398486 , -25.53180562, -31.24012272,\n",
       "       -58.48275978, -36.83715749, -56.2580135 ,  35.50500757,\n",
       "        45.24593521, -47.13060692])"
      ]
     },
     "execution_count": 6,
     "metadata": {},
     "output_type": "execute_result"
    }
   ],
   "source": [
    "np.random.uniform(-90.000,90.000, size =50)"
   ]
  },
  {
   "cell_type": "code",
   "execution_count": 7,
   "id": "575cb245-21ab-43b3-b706-5f3ba75586dc",
   "metadata": {},
   "outputs": [],
   "source": [
    "import timeit"
   ]
  },
  {
   "cell_type": "code",
   "execution_count": 8,
   "id": "00ed4dad-6ad4-41f0-b22f-1747f7be5e85",
   "metadata": {},
   "outputs": [
    {
     "name": "stdout",
     "output_type": "stream",
     "text": [
      "8.53 µs ± 145 ns per loop (mean ± std. dev. of 7 runs, 100000 loops each)\n"
     ]
    }
   ],
   "source": [
    "%timeit np.random.uniform(-90.000, 90.000, size=1500)"
   ]
  },
  {
   "cell_type": "code",
   "execution_count": 9,
   "id": "7c631a68-7999-48e0-abec-96a965f5da73",
   "metadata": {},
   "outputs": [
    {
     "name": "stdout",
     "output_type": "stream",
     "text": [
      "936 µs ± 11.9 µs per loop (mean ± std. dev. of 7 runs, 1000 loops each)\n"
     ]
    }
   ],
   "source": [
    "def latitudes(size):\n",
    "    latitudes = []\n",
    "    x = 0\n",
    "    while x < (size):\n",
    "        random_lat = random.randint(-90, 90) + random.random()\n",
    "        latitudes.append(random_lat)\n",
    "        x += 1\n",
    "    return latitudes\n",
    "# Call the function with 1500.\n",
    "%timeit latitudes(1500)"
   ]
  },
  {
   "cell_type": "code",
   "execution_count": 10,
   "id": "5a6afaf6-921e-4cb1-9c84-257e7dbc8dab",
   "metadata": {},
   "outputs": [],
   "source": [
    "import pandas as pd\n",
    "import matplotlib.pyplot as plt\n",
    "import numpy as np"
   ]
  },
  {
   "cell_type": "code",
   "execution_count": 11,
   "id": "b13c82ae-86f0-4b26-b0cc-290496293da2",
   "metadata": {},
   "outputs": [
    {
     "data": {
      "text/plain": [
       "<zip at 0x1d1dd415ac8>"
      ]
     },
     "execution_count": 11,
     "metadata": {},
     "output_type": "execute_result"
    }
   ],
   "source": [
    "lats = np.random.uniform(-90.000,90.000, size =1500)\n",
    "lngs = np.random.uniform(-180.000,180.000, size =1500)\n",
    "lats_lngs = zip(lats, lngs)\n",
    "lats_lngs"
   ]
  },
  {
   "cell_type": "code",
   "execution_count": null,
   "id": "4326976d-bc01-47ef-8cc0-27b573f24a28",
   "metadata": {},
   "outputs": [],
   "source": []
  }
 ],
 "metadata": {
  "kernelspec": {
   "display_name": "PythonData",
   "language": "python",
   "name": "pythondata"
  },
  "language_info": {
   "codemirror_mode": {
    "name": "ipython",
    "version": 3
   },
   "file_extension": ".py",
   "mimetype": "text/x-python",
   "name": "python",
   "nbconvert_exporter": "python",
   "pygments_lexer": "ipython3",
   "version": "3.7.13"
  }
 },
 "nbformat": 4,
 "nbformat_minor": 5
}
